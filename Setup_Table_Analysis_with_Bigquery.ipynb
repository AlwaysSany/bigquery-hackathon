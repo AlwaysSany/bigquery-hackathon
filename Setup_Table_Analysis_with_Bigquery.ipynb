{
  "cells": [
    {
      "cell_type": "markdown",
      "id": "Vy0Q6in86RAf",
      "metadata": {
        "id": "Vy0Q6in86RAf"
      },
      "source": [
        "# Biquery Version"
      ]
    },
    {
      "cell_type": "markdown",
      "id": "bPqkoUw1QF05",
      "metadata": {
        "id": "bPqkoUw1QF05"
      },
      "source": [
        "### Understand Product Structure Stats"
      ]
    },
    {
      "cell_type": "code",
      "execution_count": null,
      "id": "irCR_iAI6RAh",
      "metadata": {
        "id": "irCR_iAI6RAh"
      },
      "outputs": [],
      "source": [
        "%%bigquery\n",
        "-- This query counts the total number of products, unique categories, brands, and departments\n",
        "-- in the `products` table to understand the product structure.\n",
        "SELECT\n",
        "  COUNT(*) as total_products,\n",
        "  COUNT(DISTINCT category) as categories,\n",
        "  COUNT(DISTINCT brand) as brands,\n",
        "  COUNT(DISTINCT department) as departments\n",
        "FROM `bigquery-public-data.thelook_ecommerce.products`;"
      ]
    },
    {
      "cell_type": "markdown",
      "id": "GrOZwpcJ6RAi",
      "metadata": {
        "id": "GrOZwpcJ6RAi"
      },
      "source": [
        "### Sample Product Structure"
      ]
    },
    {
      "cell_type": "code",
      "execution_count": null,
      "id": "9fCh153_6RAi",
      "metadata": {
        "id": "9fCh153_6RAi"
      },
      "outputs": [],
      "source": [
        "%%bigquery\n",
        "-- This query selects a sample of 5 rows from the `products` table\n",
        "-- to provide a glimpse into the product structure.\n",
        "SELECT\n",
        "  id,\n",
        "  name,\n",
        "  category,\n",
        "  brand,\n",
        "  department,\n",
        "  retail_price,\n",
        "  cost\n",
        "FROM `bigquery-public-data.thelook_ecommerce.products`\n",
        "LIMIT 5;"
      ]
    },
    {
      "cell_type": "markdown",
      "id": "ZobCVyeC6RAi",
      "metadata": {
        "id": "ZobCVyeC6RAi"
      },
      "source": [
        "### Dataset Overview"
      ]
    },
    {
      "cell_type": "code",
      "execution_count": null,
      "id": "QTQ1rRTi6RAi",
      "metadata": {
        "id": "QTQ1rRTi6RAi"
      },
      "outputs": [],
      "source": [
        "%%bigquery\n",
        "-- This query provides a general overview of the dataset,\n",
        "-- including the total number of products, unique categories, brands,\n",
        "-- departments, and price statistics.\n",
        "SELECT\n",
        "  '📊 TheLook E-commerce Dataset Overview' as analysis,\n",
        "  COUNT(*) as total_products,\n",
        "  COUNT(DISTINCT category) as categories,\n",
        "  COUNT(DISTINCT brand) as brands,\n",
        "  COUNT(DISTINCT department) as departments,\n",
        "  AVG(retail_price) as avg_price,\n",
        "  MIN(retail_price) as min_price,\n",
        "  MAX(retail_price) as max_price\n",
        "FROM `bigquery-public-data.thelook_ecommerce.products`\n",
        "WHERE name IS NOT NULL;"
      ]
    },
    {
      "cell_type": "markdown",
      "id": "GRczJlX_6RAj",
      "metadata": {
        "id": "GRczJlX_6RAj"
      },
      "source": [
        "### Create Product Features Table"
      ]
    },
    {
      "cell_type": "code",
      "execution_count": null,
      "id": "fEFrwhJY6RAj",
      "metadata": {
        "id": "fEFrwhJY6RAj"
      },
      "outputs": [],
      "source": [
        "%%bigquery\n",
        "-- Creates a table `product_features` with product information and a semantic description.\n",
        "-- The semantic description concatenates product details and a price range category.\n",
        "CREATE OR REPLACE TABLE `bigquery-hackathon-471715.thelook_ecommerce.product_features` AS\n",
        "SELECT\n",
        "  p.id,\n",
        "  p.name,\n",
        "  p.category,\n",
        "  p.brand,\n",
        "  p.department,\n",
        "  p.retail_price,\n",
        "  p.cost,\n",
        "  CONCAT(\n",
        "    'Product: ', p.name, '. ',\n",
        "    'Category: ', p.category, '. ',\n",
        "    'Brand: ', p.brand, '. ',\n",
        "    'Department: ', p.department, '. ',\n",
        "    'Price range: ',\n",
        "    CASE\n",
        "      WHEN p.retail_price < 20 THEN 'budget-friendly'\n",
        "      WHEN p.retail_price < 50 THEN 'mid-range'\n",
        "      WHEN p.retail_price < 100 THEN 'premium'\n",
        "      ELSE 'luxury'\n",
        "    END\n",
        "  ) AS semantic_description\n",
        "FROM `bigquery-public-data.thelook_ecommerce.products` p;"
      ]
    },
    {
      "cell_type": "markdown",
      "id": "5DAIoWiX6RAj",
      "metadata": {
        "id": "5DAIoWiX6RAj"
      },
      "source": [
        "### Create Text Embedding Model"
      ]
    },
    {
      "cell_type": "code",
      "execution_count": null,
      "id": "Yja9oPsf6RAj",
      "metadata": {
        "id": "Yja9oPsf6RAj"
      },
      "outputs": [],
      "source": [
        "%%bigquery\n",
        "-- Creates a remote model for text embedding using the 'text-embedding-004' endpoint.\n",
        "CREATE MODEL `bigquery-hackathon-471715.thelook_ecommerce.thelook_model_text_embedding_004`\n",
        "REMOTE WITH CONNECTION DEFAULT\n",
        "OPTIONS(\n",
        "  ENDPOINT = 'text-embedding-004'\n",
        ");"
      ]
    },
    {
      "cell_type": "markdown",
      "id": "537oPFft6RAj",
      "metadata": {
        "id": "537oPFft6RAj"
      },
      "source": [
        "### Bigquery: Generate Product Embeddings"
      ]
    },
    {
      "cell_type": "code",
      "execution_count": null,
      "id": "zfKd0TSN6RAj",
      "metadata": {
        "id": "zfKd0TSN6RAj"
      },
      "outputs": [],
      "source": [
        "%%bigquery\n",
        "-- Generates text embeddings for the semantic descriptions in the `product_features` table\n",
        "-- using the created embedding model and stores them in `product_embeddings`.\n",
        "CREATE OR REPLACE TABLE `bigquery-hackathon-471715.thelook_ecommerce.product_embeddings` AS\n",
        "SELECT\n",
        "  *,\n",
        "  ml_generate_embedding_result AS embedding\n",
        "FROM\n",
        "  ML.GENERATE_EMBEDDING(\n",
        "    MODEL `bigquery-hackathon-471715.thelook_ecommerce.thelook_model_text_embedding_004`,\n",
        "    (\n",
        "      SELECT\n",
        "        id,\n",
        "        name,\n",
        "        category,\n",
        "        brand,\n",
        "        department,\n",
        "        retail_price,\n",
        "        semantic_description AS content\n",
        "      FROM `bigquery-hackathon-471715.thelook_ecommerce.product_features`\n",
        "    )\n",
        "  );"
      ]
    },
    {
      "cell_type": "markdown",
      "id": "7R7w9oVL6RAj",
      "metadata": {
        "id": "7R7w9oVL6RAj"
      },
      "source": [
        "### Bigquery: Clean Product Embeddings"
      ]
    },
    {
      "cell_type": "code",
      "execution_count": null,
      "id": "HTivETWn6RAk",
      "metadata": {
        "id": "HTivETWn6RAk"
      },
      "outputs": [],
      "source": [
        "%%bigquery\n",
        "--\n",
        "CREATE OR REPLACE TABLE `bigquery-hackathon-471715.thelook_ecommerce.product_embeddings_clean` AS\n",
        "SELECT *\n",
        "FROM `bigquery-hackathon-471715.thelook_ecommerce.product_embeddings`\n",
        "WHERE embedding IS NOT NULL\n",
        "  AND ARRAY_LENGTH(embedding) = 768;"
      ]
    },
    {
      "cell_type": "markdown",
      "id": "-81U94-r6RAk",
      "metadata": {
        "id": "-81U94-r6RAk"
      },
      "source": [
        "### Bigquery: Create Vector Index"
      ]
    },
    {
      "cell_type": "code",
      "execution_count": null,
      "id": "MDXCJwzo6RAk",
      "metadata": {
        "id": "MDXCJwzo6RAk"
      },
      "outputs": [],
      "source": [
        "%%bigquery\n",
        "CREATE VECTOR INDEX product_similarity_index\n",
        "ON `bigquery-hackathon-471715.thelook_ecommerce.product_embeddings_clean`(embedding)\n",
        "OPTIONS(\n",
        "  index_type='IVF',\n",
        "  distance_type='COSINE',\n",
        "  ivf_options='{\"num_lists\": 1000}'\n",
        ");"
      ]
    },
    {
      "cell_type": "markdown",
      "id": "FAvuCpFj6RAk",
      "metadata": {
        "id": "FAvuCpFj6RAk"
      },
      "source": [
        "### Test 0: Basic Similar Product"
      ]
    },
    {
      "cell_type": "code",
      "execution_count": null,
      "id": "ImymPzvC6RAk",
      "metadata": {
        "id": "ImymPzvC6RAk"
      },
      "outputs": [],
      "source": [
        "%%bigquery\n",
        "WITH target_product AS (\n",
        "  SELECT embedding, name as target_name, category, brand, retail_price\n",
        "  FROM `bigquery-hackathon-471715.thelook_ecommerce.product_embeddings_clean`\n",
        "  WHERE id = 21018\n",
        ")\n",
        "SELECT\n",
        "  base.id,\n",
        "  base.name,\n",
        "  target.target_name,\n",
        "  base.category,\n",
        "  base.brand,\n",
        "  base.retail_price,\n",
        "  ROUND((1 - COSINE_DISTANCE(target.embedding, base.embedding)), 3) AS similarity_score\n",
        "FROM `bigquery-hackathon-471715.thelook_ecommerce.product_embeddings_clean` base\n",
        "CROSS JOIN target_product target\n",
        "WHERE base.id != 21018\n",
        "ORDER BY similarity_score DESC\n",
        "LIMIT 5;"
      ]
    },
    {
      "cell_type": "markdown",
      "id": "E6BK9Ryb6RAk",
      "metadata": {
        "id": "E6BK9Ryb6RAk"
      },
      "source": [
        "### Test 1: Core Recommendation Function"
      ]
    },
    {
      "cell_type": "code",
      "execution_count": null,
      "id": "UHyMA2GA6RAk",
      "metadata": {
        "id": "UHyMA2GA6RAk"
      },
      "outputs": [],
      "source": [
        "%%bigquery\n",
        "WITH target_product AS (\n",
        "  SELECT embedding,\n",
        "  name as target_name,\n",
        "  category, brand,\n",
        "  retail_price\n",
        "  FROM `bigquery-hackathon-471715.thelook_ecommerce.product_embeddings_clean`\n",
        "  WHERE id = 21018\n",
        "),\n",
        "similar_products AS (\n",
        "  SELECT\n",
        "    base.id,\n",
        "    base.name,\n",
        "    base.category,\n",
        "    base.brand,\n",
        "    base.retail_price,\n",
        "    ROUND((1 - COSINE_DISTANCE(target.embedding, base.embedding)), 3) AS similarity_score\n",
        "  FROM `bigquery-hackathon-471715.thelook_ecommerce.product_embeddings_clean` base\n",
        "  CROSS JOIN target_product target\n",
        "  WHERE base.id != 21018\n",
        "  ORDER BY similarity_score DESC\n",
        "  LIMIT 5\n",
        ")\n",
        "SELECT * FROM similar_products;"
      ]
    },
    {
      "cell_type": "markdown",
      "id": "zJvBjOlK6RAk",
      "metadata": {
        "id": "zJvBjOlK6RAk"
      },
      "source": [
        "### Test 2: Smart Multi-Factor Recommendations"
      ]
    },
    {
      "cell_type": "code",
      "execution_count": null,
      "id": "s27NgDId6RAk",
      "metadata": {
        "id": "s27NgDId6RAk"
      },
      "outputs": [],
      "source": [
        "%%bigquery\n",
        "WITH target_product AS (\n",
        "  SELECT\n",
        "    embedding, retail_price, category, brand, name as target_name\n",
        "  FROM `bigquery-hackathon-471715.thelook_ecommerce.product_embeddings_clean`\n",
        "  WHERE id = 21018\n",
        "),\n",
        "smart_recommendations AS (\n",
        "  SELECT\n",
        "    p.id, p.name, t.target_name,\n",
        "    p.category, p.brand, p.retail_price,\n",
        "    ROUND((1 - COSINE_DISTANCE(t.embedding, p.embedding)), 3) * 0.6 AS semantic_score,\n",
        "    ROUND((1 - ABS(p.retail_price - t.retail_price) / GREATEST(p.retail_price, t.retail_price)), 3) * 0.25 AS price_score,\n",
        "    CASE WHEN p.category = t.category THEN 0.1 ELSE 0 END AS category_bonus,\n",
        "    CASE WHEN p.brand = t.brand THEN 0.05 ELSE 0 END AS brand_bonus\n",
        "  FROM `bigquery-hackathon-471715.thelook_ecommerce.product_embeddings_clean` p\n",
        "  CROSS JOIN target_product t\n",
        "  WHERE p.id != 21018\n",
        ")\n",
        "SELECT *,\n",
        "  ROUND((semantic_score + price_score + category_bonus + brand_bonus), 3) AS total_score,\n",
        "  CASE\n",
        "    WHEN category_bonus > 0 AND brand_bonus > 0 THEN 'Perfect Match'\n",
        "    WHEN category_bonus > 0 THEN 'Same Category'\n",
        "    WHEN brand_bonus > 0 THEN 'Same Brand'\n",
        "    WHEN semantic_score > 0.4 THEN 'Semantically Similar'\n",
        "    ELSE 'Alternative'\n",
        "  END AS match_type\n",
        "FROM smart_recommendations\n",
        "ORDER BY total_score DESC\n",
        "LIMIT 8;"
      ]
    },
    {
      "cell_type": "markdown",
      "id": "h_56QEYs6RAl",
      "metadata": {
        "id": "h_56QEYs6RAl"
      },
      "source": [
        "### Test 3: Cross-Category Discovery"
      ]
    },
    {
      "cell_type": "code",
      "execution_count": null,
      "id": "ZnRIv8Px6RAl",
      "metadata": {
        "id": "ZnRIv8Px6RAl"
      },
      "outputs": [],
      "source": [
        "%%bigquery\n",
        "WITH target AS (\n",
        "  SELECT embedding, category as target_category, name as target_name, brand, retail_price\n",
        "  FROM `bigquery-hackathon-471715.thelook_ecommerce.product_embeddings_clean`\n",
        "  WHERE id = 21018\n",
        ")\n",
        "SELECT\n",
        "  p.id, p.name, t.target_name,\n",
        "  p.category, t.target_category,\n",
        "  p.brand, p.retail_price,\n",
        "  ROUND((1 - COSINE_DISTANCE(t.embedding, p.embedding)), 3) AS similarity,\n",
        "  CASE WHEN p.category = t.target_category THEN 'Same' ELSE 'Different' END AS category_match\n",
        "FROM `bigquery-hackathon-471715.thelook_ecommerce.product_embeddings_clean` p\n",
        "CROSS JOIN target t\n",
        "WHERE p.id != 21018\n",
        "  AND p.category != t.target_category\n",
        "ORDER BY similarity DESC\n",
        "LIMIT 10;"
      ]
    },
    {
      "cell_type": "markdown",
      "id": "Y50z_NBX6RAl",
      "metadata": {
        "id": "Y50z_NBX6RAl"
      },
      "source": [
        "### Test 4: Price-Conscious Recommendations"
      ]
    },
    {
      "cell_type": "code",
      "execution_count": null,
      "id": "e_I1rBjH6RAl",
      "metadata": {
        "id": "e_I1rBjH6RAl"
      },
      "outputs": [],
      "source": [
        "%%bigquery\n",
        "WITH target AS (\n",
        "  SELECT embedding, retail_price, name, category, brand\n",
        "  FROM `bigquery-hackathon-471715.thelook_ecommerce.product_embeddings_clean`\n",
        "  WHERE id = 21018\n",
        ")\n",
        "SELECT\n",
        "  p.id, p.name, t.name as original_product,\n",
        "  p.category, p.brand,\n",
        "  p.retail_price, t.retail_price as original_price,\n",
        "  ROUND((1 - COSINE_DISTANCE(t.embedding, p.embedding)), 3) AS similarity,\n",
        "  ROUND(((p.retail_price - t.retail_price) / t.retail_price * 100), 1) AS price_change_pct,\n",
        "  CASE\n",
        "    WHEN p.retail_price < t.retail_price THEN 'Cheaper'\n",
        "    WHEN p.retail_price = t.retail_price THEN 'Same Price'\n",
        "    ELSE 'Premium'\n",
        "  END AS price_category\n",
        "FROM `bigquery-hackathon-471715.thelook_ecommerce.product_embeddings_clean` p\n",
        "CROSS JOIN target t\n",
        "WHERE p.id != 21018\n",
        "  AND ABS(p.retail_price - t.retail_price) / t.retail_price <= 0.2\n",
        "ORDER BY similarity DESC\n",
        "LIMIT 10;"
      ]
    },
    {
      "cell_type": "markdown",
      "id": "acRaXd106RAl",
      "metadata": {
        "id": "acRaXd106RAl"
      },
      "source": [
        "### Test 5: Trend-Aware Recommendations"
      ]
    },
    {
      "cell_type": "code",
      "execution_count": null,
      "id": "XsLSENps6RAl",
      "metadata": {
        "id": "XsLSENps6RAl"
      },
      "outputs": [],
      "source": [
        "%%bigquery\n",
        "WITH target AS (\n",
        "  SELECT id, embedding, name, category, brand, retail_price\n",
        "  FROM `bigquery-hackathon-471715.thelook_ecommerce.product_embeddings_clean`\n",
        "  WHERE id = 21018\n",
        "),\n",
        "popularity AS (\n",
        "  SELECT product_id, COUNT(*) AS order_count\n",
        "  FROM `bigquery-public-data.thelook_ecommerce.order_items`\n",
        "  GROUP BY product_id\n",
        ")\n",
        "SELECT\n",
        "  p.id, p.name, t.name as original_product,\n",
        "  p.category, p.brand, p.retail_price,\n",
        "  COALESCE(pop.order_count, 0) AS popularity,\n",
        "  ROUND((1 - COSINE_DISTANCE(t.embedding, p.embedding)), 3) AS similarity,\n",
        "  ROUND((1 - COSINE_DISTANCE(t.embedding, p.embedding)), 3) * 0.7 +\n",
        "  LOG10(COALESCE(pop.order_count, 1)) * 0.3 AS weighted_score\n",
        "FROM `bigquery-hackathon-471715.thelook_ecommerce.product_embeddings_clean` p\n",
        "LEFT JOIN popularity pop ON p.id = pop.product_id\n",
        "CROSS JOIN target t\n",
        "WHERE p.id != t.id\n",
        "ORDER BY weighted_score DESC\n",
        "LIMIT 10;"
      ]
    },
    {
      "cell_type": "markdown",
      "id": "GutcxjqW6RAl",
      "metadata": {
        "id": "GutcxjqW6RAl"
      },
      "source": [
        "### Test 6: Department-Level Exploration"
      ]
    },
    {
      "cell_type": "code",
      "execution_count": null,
      "id": "FPml75_C6RAl",
      "metadata": {
        "id": "FPml75_C6RAl"
      },
      "outputs": [],
      "source": [
        "%%bigquery\n",
        "WITH target AS (\n",
        "  SELECT embedding, department as target_department, name as target_name\n",
        "  FROM `bigquery-hackathon-471715.thelook_ecommerce.product_embeddings_clean`\n",
        "  WHERE id = 21018\n",
        ")\n",
        "SELECT\n",
        "  p.id, p.name, t.target_name,\n",
        "  p.department, t.target_department,\n",
        "  ROUND((1 - COSINE_DISTANCE(t.embedding, p.embedding)), 3) AS similarity\n",
        "FROM `bigquery-hackathon-471715.thelook_ecommerce.product_embeddings_clean` p\n",
        "CROSS JOIN target t\n",
        "WHERE p.id != 21018\n",
        "  AND p.department != t.target_department\n",
        "ORDER BY similarity DESC\n",
        "LIMIT 10;"
      ]
    },
    {
      "cell_type": "markdown",
      "id": "_oceOQ_zAZaO",
      "metadata": {
        "id": "_oceOQ_zAZaO"
      },
      "source": [
        "## Test 7: Inventory-Level Exploration"
      ]
    },
    {
      "cell_type": "code",
      "execution_count": null,
      "id": "df9ml-ce6RAl",
      "metadata": {
        "id": "df9ml-ce6RAl"
      },
      "outputs": [],
      "source": [
        "%%bigquery\n",
        "WITH target AS (\n",
        "  SELECT id, embedding, name FROM `bigquery-hackathon-471715.thelook_ecommerce.product_embeddings_clean`\n",
        "  WHERE id = 21018\n",
        ")\n",
        "SELECT\n",
        "  p.id, p.name, t.name as original_product,\n",
        "  ROUND((1 - COSINE_DISTANCE(t.embedding, p.embedding)), 3) AS similarity\n",
        "FROM `bigquery-hackathon-471715.thelook_ecommerce.product_embeddings_clean` p\n",
        "CROSS JOIN target t\n",
        "LEFT JOIN `bigquery-hackathon-471715.thelook_ecommerce.inventory` i ON p.id = i.product_id\n",
        "WHERE p.id != t.id\n",
        "  AND i.in_stock = TRUE\n",
        "ORDER BY similarity DESC\n",
        "LIMIT 5;"
      ]
    },
    {
      "cell_type": "markdown",
      "id": "Hr-cfczxMCz8",
      "metadata": {
        "id": "Hr-cfczxMCz8"
      },
      "source": [
        "### Test 8: In-Stock Substitutes (using inventory_items)"
      ]
    },
    {
      "cell_type": "code",
      "execution_count": null,
      "id": "iCqaE7SIMC_u",
      "metadata": {
        "id": "iCqaE7SIMC_u"
      },
      "outputs": [],
      "source": [
        "%%bigquery\n",
        "-- This query finds similar products that are currently in stock,\n",
        "-- using the inventory_items table to check stock status.\n",
        "WITH target AS (\n",
        "  SELECT id, embedding, name\n",
        "  FROM `bigquery-hackathon-471715.thelook_ecommerce.product_embeddings_clean`\n",
        "  WHERE id = 21018 -- Specifies the target product ID for similarity search.\n",
        "),\n",
        "inventory_status AS (\n",
        "  -- Calculates the number of actively stocked items for each product.\n",
        "  SELECT\n",
        "    product_id,\n",
        "    COUNTIF(sold_at IS NULL OR sold_at > CURRENT_TIMESTAMP()) AS active_stock\n",
        "  FROM `bigquery-public-data.thelook_ecommerce.inventory_items`\n",
        "  GROUP BY product_id\n",
        ")\n",
        "SELECT\n",
        "  p.id, p.name, t.name AS original_product,\n",
        "  -- Calculates the cosine similarity score between the target product and others.\n",
        "  ROUND((1 - COSINE_DISTANCE(t.embedding, p.embedding)), 3) AS similarity,\n",
        "  -- Determines the stock status based on active stock count.\n",
        "  CASE\n",
        "    WHEN COALESCE(inv.active_stock, 0) > 0 THEN '✅ In Stock'\n",
        "    ELSE '❌ Out of Stock'\n",
        "  END AS stock_status\n",
        "FROM `bigquery-hackathon-471715.thelook_ecommerce.product_embeddings_clean` p\n",
        "CROSS JOIN target t\n",
        "LEFT JOIN inventory_status inv ON p.id = inv.product_id\n",
        "WHERE p.id != t.id -- Excludes the target product from the results.\n",
        "  AND COALESCE(inv.active_stock, 0) > 0 -- Filters for products that are in stock.\n",
        "ORDER BY similarity DESC -- Orders the results by similarity score in descending order.\n",
        "LIMIT 5; -- Limits the output to the top 5 most similar in-stock products."
      ]
    }
  ],
  "metadata": {
    "colab": {
      "provenance": []
    },
    "kernelspec": {
      "display_name": "Python 3",
      "language": "python",
      "name": "python3"
    },
    "language_info": {
      "name": "python",
      "version": "3.9"
    }
  },
  "nbformat": 4,
  "nbformat_minor": 5
}
